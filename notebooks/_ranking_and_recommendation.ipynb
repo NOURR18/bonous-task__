{
 "cells": [
  {
   "cell_type": "code",
   "execution_count": null,
   "id": "f87ca75f",
   "metadata": {},
   "outputs": [],
   "source": [
    "import pandas as pd\n",
    "\n",
    "# Load sorted similarities data\n",
    "df = pd.read_csv('../data/sorted_similarities.csv')\n",
    "\n",
    "# Get top-N recommendations (e.g., top 10)\n",
    "top_n = 10\n",
    "top_recommendations = df.head(top_n)\n",
    "\n",
    "# Display top recommendations\n",
    "print(top_recommendations[['news_id', 'similarity']])\n",
    "\n",
    "# Save the recommendations to a CSV file\n",
    "top_recommendations.to_csv('../results/sample_recommendations.csv', index=False)\n",
    "\n",
    "# Optionally, ask for user feedback\n",
    "with open('../results/user_feedback_notes.txt', 'w') as f:\n",
    "    f.write(\"User feedback goes here...\")"
   ]
  }
 ],
 "metadata": {
  "language_info": {
   "name": "python"
  }
 },
 "nbformat": 4,
 "nbformat_minor": 5
}
