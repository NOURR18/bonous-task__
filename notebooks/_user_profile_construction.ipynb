{
 "cells": [
  {
   "cell_type": "code",
   "execution_count": null,
   "id": "6d6ca533",
   "metadata": {},
   "outputs": [],
   "source": [
    "import pandas as pd\n",
    "\n",
    "# Load cleaned data\n",
    "df = pd.read_csv('../data/cleaned_news.csv')\n",
    "\n",
    "# Simulate user input (preferred keywords)\n",
    "user_keywords = ['technology', 'ai', 'machine', 'learning', 'science']\n",
    "\n",
    "# Create user profile as a string\n",
    "user_profile = ' '.join(user_keywords)\n",
    "\n",
    "# Save user profile to a text file (optional)\n",
    "with open('../data/user_profile.txt', 'w') as f:\n",
    "    f.write(user_profile)"
   ]
  }
 ],
 "metadata": {
  "language_info": {
   "name": "python"
  }
 },
 "nbformat": 4,
 "nbformat_minor": 5
}
