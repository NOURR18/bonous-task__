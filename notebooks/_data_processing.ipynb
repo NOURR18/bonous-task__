{
 "cells": [
  {
   "cell_type": "code",
   "execution_count": null,
   "id": "e621085d",
   "metadata": {},
   "outputs": [],
   "source": [
    "import pandas as pd\n",
    "import string\n",
    "import nltk\n",
    "import spacy\n",
    "from nltk.corpus import stopwords\n",
    "\n",
    "# Download necessary files\n",
    "nltk.download('punkt')\n",
    "nltk.download('stopwords')\n",
    "nlp = spacy.load(\"en_core_web_sm\")\n",
    "\n",
    "# Load the data\n",
    "df = pd.read_csv('../data/news.tsv', sep='\\t')\n",
    "# Preprocess text\n",
    "stop_words = set(stopwords.words('english'))\n",
    "def preprocess(text):\n",
    "    doc = nlp(text.lower())\n",
    "    tokens = [token.lemma_ for token in doc if token.text not in string.punctuation and \n",
    "              token.text not in stop_words and token.is_alpha]\n",
    "    return ' '.join(tokens)\n",
    "\n",
    "# Combine title and abstract for content\n",
    "df['content'] = df['title'].fillna('') + ' ' + df['abstract'].fillna('')\n",
    "\n",
    "# Apply preprocessing\n",
    "df['cleaned_content'] = df['content'].apply(preprocess)\n",
    "\n",
    "# Save cleaned data (if you need this step to generate it for later use)\n",
    "df[['news_id', 'cleaned_content']].to_csv('../data/cleaned_news.csv', index=False)"
   ]
  }
 ],
 "metadata": {
  "language_info": {
   "name": "python"
  }
 },
 "nbformat": 4,
 "nbformat_minor": 5
}
