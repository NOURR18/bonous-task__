{
 "cells": [
  {
   "cell_type": "code",
   "execution_count": null,
   "id": "d0355f38",
   "metadata": {},
   "outputs": [],
   "source": [
    "import pandas as pd\n",
    "from sklearn.feature_extraction.text import TfidfVectorizer\n",
    "from sklearn.metrics.pairwise import cosine_similarity\n",
    "\n",
    "# Load data\n",
    "df = pd.read_csv('../data/cleaned_news.csv')\n",
    "\n",
    "# Load user profile\n",
    "with open('../data/user_profile.txt', 'r') as f:\n",
    "    user_profile = f.read()\n",
    "\n",
    "# Create TF-IDF vectorizer\n",
    "vectorizer = TfidfVectorizer()\n",
    "\n",
    "# Transform the news articles and the user profile\n",
    "tfidf_matrix = vectorizer.fit_transform(df['cleaned_content'])\n",
    "user_vec = vectorizer.transform([user_profile])\n",
    "# Compute cosine similarities\n",
    "similarities = cosine_similarity(user_vec, tfidf_matrix).flatten()\n",
    "\n",
    "# Add similarity scores to the dataframe\n",
    "df['similarity'] = similarities\n",
    "\n",
    "# Sort by similarity\n",
    "df_sorted = df.sort_values(by='similarity', ascending=False)\n",
    "\n",
    "# Save the sorted results (articles ranked by similarity)\n",
    "df_sorted.to_csv('../data/sorted_similarities.csv', index=False)"
   ]
  }
 ],
 "metadata": {
  "language_info": {
   "name": "python"
  }
 },
 "nbformat": 4,
 "nbformat_minor": 5
}
